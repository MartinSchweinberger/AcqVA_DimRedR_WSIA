{
    "cells": [
        {
            "cell_type": "markdown",
            "metadata": {},
            "source": [
                "# Introduction to Dimension Reduction Methods with R - AcqVA Aurora workshop\n",
                "\n",
                "\n",
                "\n",
                "![](\"https://slcladal.github.io/images/acqvalab.png\")\n",
                "\n",
                "**Abstract**\n",
                "\n",
                "Join this half-day workshop on dimension reduction methods for linguistic data analysis to explore how Principal Component Analysis (PCA), Multidimensional Scaling (MDS), and Factor Analysis (FA), can enhance your understanding of linguistic data.\n",
                "\n",
                "In this workshop, we will discuss basic concepts and principles behind dimension reduction methods and gain a basic understanding of their similarities and differences. In addition, we will explore practical applications of PCA, MDS, and FA, with a focus on their effectiveness in linguistic research, e.g., by enabling the identification of latent factors and dimensions that influence language variation and usage.\n",
                "\n",
                "Through interactive demonstrations and hands-on exercises, participants will gain practical experience in implementing dimension reduction methods. Learn how to interpret results, visualize reduced-dimensional representations, and effectively communicate findings.\n",
                "\n",
                "Note: Basic knowledge of statistics and basic familiarity with R is required. Participants are encouraged to bring their laptops and send through sample data sets beforehand.\n",
                "\n",
                "\n",
                "\n",
                "## Introduction{-}\n",
                "\n",
                "This tutorial introduces dimension reduction methods with R with the aim of showcasing how these methods work, how to prepare data and how to implement selected dimension reduction methods (Principal Component Analysis, Factor Analysis, and Multidimensional Scaling). Unfortunately, we cannot deal with other, more complex dimension reduction methods such as Uniform Manifold Approximation and Projection (UMAP) or t-Distributed Stochastic Neighbor Embedding (t-SNE) here (maybe in a follow up session). The reduction of multiple variables is useful for many things, e.g., for visualization, noise reduction, and simplifying complex data sets. However, it's essential to note that interpretability of the principal components may not always be straightforward, as they are linear combinations of the original features.\n",
                "\n",
                "This AcqVA-Aurora Lab workshop is aimed at beginners and intermediate users of R. The aim is not to provide a fully-fledged guide but rather to show and exemplify some common dimension reduction methods with R.\n",
                "\n",
                "\n",
                "<div class=\"warning\" style='padding:0.1em; background-color:#f2f2f2; color:#51247a'>\n",
                "<span>\n",
                "<p style='margin-top:1em; text-align:center'>\n",
                "The entire R Notebook for the tutorial can be downloaded [**here**](https://github.com/MartinSchweinberger/AcqVA_DimRedR_WS/acqvadimredrws.Rmd).  If you want to render the R Notebook on your machine, i.e. knitting the document to html or a pdf, you need to make sure that you have R and RStudio installed and you also need to download the [**bibliography file**](https://github.com/MartinSchweinberger/AcqVA_DimRedR_WS/bibliography.bib) and store it in the same folder where you store the Rproj file. <br><br>\n",
                "**[Here](https://colab.research.google.com/drive/16VNNnRXAC6CFU9oBwLlQsoG_Xpub-CRl?usp=sharing)** is a **link to an interactive version of this tutorial on Binder**. The interactive tutorial is based on a Jupyter notebook of this tutorial. This interactive Jupyter notebook allows you to execute code yourself and - if you copy the Jupyter notebook - you can also change and edit the notebook, e.g. you can change code and upload your own data.<br><\/p>\n",
                "<p style='margin-left:1em;'>\n",
                "<\/p><\/span>\n",
                "<\/div>\n",
                "\n",
                "<br>\n",
                "\n",
                "\n",
                "\n",
                "### What to do before the workshop{-}\n",
                "\n",
                "To get the most out of this workshop, you will need to have some (basic) R skills and (basic) knowledge of how to work with R, RStudio, R Projects, and R Notebooks. If you have no or little experience with this or if you need to refresh your skills, please carefully read (or optimally go through) these tutorials:\n",
                "\n",
                "* [Getting started with R](https://slcladal.github.io/intror.html)\n",
                "\n",
                "* [Handling tables in R](https://slcladal.github.io/table.html)\n",
                "\n",
                "Before attending the workshop, you need to install R and RStudio. If you have already installed R, you need to update R and existing packages. You can update R using the code chunk below (you need to un-comment the commands from them to become active).\n"
            ]
        },
        {
            "cell_type": "code",
            "execution_count": null,
            "metadata": {},
            "outputs": [],
            "source": [
                "# update R\n",
                "#install.packages(\"installr\")\n",
                "#library(installr)\n",
                "#updateR()\n"
            ]
        },
        {
            "cell_type": "markdown",
            "metadata": {},
            "source": [
                "You can update the R packages we need today by executing the code chunk below by clicking on the green \"play\" symbol at the top right of the code chunk. \n",
                "\n"
            ]
        },
        {
            "cell_type": "code",
            "execution_count": null,
            "metadata": {},
            "outputs": [],
            "source": [
                "# install required packages\n",
                "install.packages(c(\n",
                "  \n",
                "  # packages for data processing\n",
                "  \"dplyr\", \"here\", \"flextable\", \"stringr\", \"tidyr\",\n",
                "  \n",
                "  # packages for principal component analysis\n",
                "  \"MASS\", \"factoextra\", \"psych\",\n",
                "  \n",
                "  # packages for visualizing and reporting results\n",
                "  \"ggplot2\", \"report\"), \n",
                "  \n",
                "  # and we also want to have all dependencies installed\n",
                "  dependencies = T)\n"
            ]
        },
        {
            "cell_type": "markdown",
            "metadata": {},
            "source": [
                "**It is really important that you have knowledge of R and RStudio and that you have installed the packages before the workshop so that we do not have to deal with technical issues too much.**\n",
                "\n",
                "After installing these packages, we fetch them from the library to activate the packages.\n"
            ]
        },
        {
            "cell_type": "code",
            "execution_count": null,
            "metadata": {},
            "outputs": [],
            "source": [
                "options(scipen = 999) # supress math. notation\n",
                "library(dplyr)\n",
                "library(here)\n",
                "library(flextable)\n",
                "library(stringr)\n",
                "library(tidyr)\n",
                "library(MASS)\n",
                "library(factoextra)\n",
                "library(ggplot2)\n",
                "library(report)\n",
                "library(psych)\n"
            ]
        },
        {
            "cell_type": "markdown",
            "metadata": {},
            "source": [
                "You can find a more detailed version of the content of this workshop in these two LADAL tutorials\n",
                "\n",
                "* [Introduction to Data Visualization in R](https://slcladal.github.io/introviz.html)\n",
                "\n",
                "* [Data Visualization with R](https://slcladal.github.io/dviz.html)\n",
                "\n",
                "You can follow this workshop in different ways - you can sit back and watch it like a lecture or take a more active role - that said, the intention for this workshop is clearly to be practical so that I show something and then you do it on you computer and we have exercises where you can try out what you have just learned.\n",
                "\n",
                "So, in essence, there are the following three options for following this workshop:\n",
                "\n",
                "1. You can sit back and enjoy and focus on what you see and then go back home and try it by yourself later.\n",
                "\n",
                "2. You can follow this workshop in RStudio and execute code, see what it does, understand it, and adapt it. This requires some skills in R and RStudio - although I have trued to keep things simple.\n",
                "\n",
                "3. You can click on [this link]() which takes you to a Jupyter Notebook on Google Colab (and you are then ready to go - you only  have to install the packages which takes a couple of minutes). You can then copy that Notebook and save it in your own Google Drive and then execute code, modify it, and understand it. This does require less skills and will be easier for people who just want to focus on the code that produces certain visualizations without doing it in RStudio. Also, this get rid of most technical issues (hopefully) but the installation of packages will take a while and you will need to re-install the packages every time you want to re-use the Jupyter Notebook.\n",
                "\n",
                "Choose which option suits you best and then go with it. \n",
                "\n",
                "### Timeline{-}\n",
                "\n",
                "Here is what we have planned to cover in this workshop:\n",
                "\n",
                "Friday, August 25, 10 am - 12 pm\n",
                "\n",
                "* Introduction\n",
                "\n",
                "* Primer\n",
                "\n",
                "* Session preparation\n",
                "\n",
                "* Principal Component Analysis\n",
                "\n",
                "* Multidimensional Scaling \n",
                "\n",
                "* Factor Analysis\n",
                "\n",
                "* Wrap-up\n",
                "\n",
                "## What are dimension reduction methods? {-}\n",
                "\n",
                "Dimension reduction methods such as Principal Component Analysis (PCA), Multidimensional Scaling (MDS), and Factor Analysis are techniques used to *reduce the number of variables or dimensions in a data set while preserving as much relevant information as possible*. \n",
                "\n",
                "The choice of method depends on the specific goals of the analysis and the nature of the data being analyzed. Each method addresses different aspects of dimension reduction:\n",
                "\n",
                "+ PCA emphasizes variance\n",
                "\n",
                "+ MDS emphasizes pairwise distances\n",
                "\n",
                "+ Factor Analysis emphasizes the underlying latent factors.\n",
                "\n",
                "Below are brief explanations of the three commonly used dimension reduction methods.\n",
                "\n",
                "**Principal Component Analysis (PCA)**\n",
                "\n",
                "Principal Component Analysis is a statistical technique that transforms a data set into a new coordinate system where the variables (features) are linearly uncorrelated.\n",
                "\n",
                "It aims to find a set of orthogonal axes (principal components) in such a way that the first principal component accounts for the maximum variance in the data, the second principal component for the second maximum variance, and so on. By selecting a subset of these principal components, you can achieve dimension reduction while retaining the most significant information in the data.\n",
                "\n",
                "Unfortunately, PCA only works really well when the number of features (or variables) isn't too big and when the majority of the variance is explained by 2 or 3 principal components. If you are dealing with a very large data set with many features, UMAP is a better alternative.\n",
                "\n",
                "**Multidimensional Scaling (MDS)**\n",
                "\n",
                "Multidimensional Scaling is a method used to represent high-dimensional data in a lower-dimensional space (usually 2D or 3D) while maintaining pairwise distances or similarities between data points. MDS attempts to preserve the relationships among data points as much as possible. It's often used in visualization to represent complex data in a way that makes it easier to interpret or analyze.\n",
                "\n",
                "Like PCA, MDS only works really well when the number of variables isn't too big and when the majority of the variance is explained by 2 or 3 dimensions.\n",
                "\n",
                "**Factor Analysis**\n",
                "\n",
                "Factor Analysis is a statistical technique that aims to uncover underlying latent factors that contribute to the observed variables in a data set. It's particularly useful when dealing with data where variables may be correlated, and you want to identify common factors that explain the shared variance. Factor Analysis assumes that observed variables are influenced by both the common factors and unique factors specific to each variable.\n",
                "\n",
                "## Getting started {-}\n",
                "\n",
                "If you choose option 2, you need to set up our R session and prepare our R project at the very beginning of the workshop. \n",
                "\n",
                "For everything to work, please do the following:\n",
                "\n",
                "* Create a folder for this workshop somewhere on your computer, e.g. called *AcqVA_DimRed_WS*\n",
                "\n",
                "* In that folder, create two subfolders called *data* and *images*\n",
                "\n",
                "* Open RStudio, go to File > New Project > Existing Directory (Browse to project folder) > Create (and hit Enter)\n",
                "\n",
                "This will then create an R Project in the project folder.\n",
                "\n",
                "### Today's Data{-}\n",
                "\n",
                "\n",
                "We will use 3 data sets:\n",
                "\n",
                "+ **biopsy**: This breast cancer database was obtained from the University of Wisconsin Hospitals, Madison from Dr. William H. Wolberg. He assessed biopsies of breast tumours for 699 patients up to 15 July 1992; each of nine attributes has been scored on a scale of 1 to 10, and the outcome is also known. There are 699 rows and 11 columns.\n",
                "\n",
                "+ **surveydata**: This fictitious data set represents responses to 15 items by 20 participants. The 15 items aim to assess 3 different psychological constructs (outgoingness, intelligence, and attidude).\n",
                "\n",
                "\n",
                "## Principal Component Analysis{-}\n",
                "\n",
                "Principal Component Analysis (PCA) [see, e.g., @clark2011introduction] is  used for dimensionality reduction and data compression while preserving as much variance as possible in the data. It achieves this by transforming the original data into a new coordinate system defined by a set of orthogonal axes called *principal components*. The first principal component captures the maximum variance in the data, the second captures the second maximum variance, and so on.\n",
                "\n",
                ">\"Imagine you have just opened a cider shop. You have 50 varieties of cider and you want to work out how to allocate them onto shelves, so that similar-tasting ciders are put on the same shelf. There are lots of different tastes and textures in cider - sweetness, tartness, bitterness, yeastiness, fruitiness, clarity, fizziness etc etc. So what you need to do to put the bottles into categories is answer two questions:\n",
                ">\n",
                ">1) What qualities are most important for identifying groups of ciders? e.g. does classifying based on sweetness make it easier to cluster your ciders into similar-tasting groups than classifying based on fruitiness?\n",
                ">\n",
                ">2) Can we reduce our list of variables by combining some of them? e.g. is there actually a variable that is some combination of \"yeastiness and clarity and fizziness\" and which makes a really good scale for classifying varieties?\n",
                ">\n",
                ">This is essentially what PCA does. Principal components are variables that usefully explain variation in a data set - in this case, that usefully differentiate between groups. Each principal component is one of your original explanatory variables, or a combination of some of your original explanatory variables.\" \n",
                ">`r tufte::quote_footer('Freya Harrison')`\n",
                "\n",
                "\n",
                "Let's delve into an easy example to get a better understanding of the theoretical underpinnings of PCA and to see how it works (this section is based on @stackpca3) (a very brief, nice, and easy to understand explanation of PCA is available [here](https://stats.stackexchange.com/questions/2691/making-sense-of-principal-component-analysis-eigenvectors-eigenvalues/2700#2700) [@stackpca4])... \n",
                "\n",
                "**Primer: Why should I use a PCA and what does PCA tell us?**\n",
                "\n",
                "Imagine we have a data set representing measurements of 4 features across a sample of 6 languages. We now want to see if the languages from groups based on the frequencies of these features.\n",
                "\n",
                "![](\"https://MartinSchweinberger.github.io/AcqVA_DimRedR_WS/p01.png\")\n"
            ]
        },
        {
            "cell_type": "code",
            "execution_count": null,
            "metadata": {},
            "outputs": [],
            "source": [
                "pcadat <- data.frame(Language = c(\"Lang1\", \"Lang2\", \"Lang3\", \n",
                "        \"Lang4\", \"Lang5\", \"Lang6\"),\n",
                "        Feat1 = c(10, 11, 8, 3, 1, 2),\n",
                "                     Feat2 = c(6, 4, 5, 3, 2.8, 1),\n",
                "                     Feat3 = c(12, 9, 10, 2.5, 1.3, 2),\n",
                "                     Feat4 = c(5, 7, 6, 2, 4, 7)) %>%\n",
                "  as.data.frame() \n",
                "flextable::flextable(pcadat)\n"
            ]
        },
        {
            "cell_type": "markdown",
            "metadata": {},
            "source": [
                "To understand how PCA works, let us start by plotting the first feature (Feat1).\n",
                "\n"
            ]
        },
        {
            "cell_type": "code",
            "execution_count": null,
            "metadata": {},
            "outputs": [],
            "source": [
                "pcadat %>%\n",
                "ggplot(aes(x = Feat1, y = rep(0, 6))) +\n",
                "  geom_point(size = 5) +\n",
                "  theme_bw() +\n",
                "  theme(axis.text.y=element_blank(),\n",
                "        axis.ticks.y=element_blank(),\n",
                "        aspect.ratio = 1) +\n",
                "  scale_x_discrete(name =\"Feat1\", limits=seq(1, 11, 1))+\n",
                "  scale_y_discrete(name =\"\", limits=seq(-.5, .5, .5))\n"
            ]
        },
        {
            "cell_type": "markdown",
            "metadata": {},
            "source": [
                "When we check the visualization of the first feature, we see that there appear to be two groups in our data!\n",
                "\n",
                "We now add the second feature (Feat2) to check if the second feature adds information and supports our hypothesis that there are two types of languages in our data based on the features we collected.\n"
            ]
        },
        {
            "cell_type": "code",
            "execution_count": null,
            "metadata": {},
            "outputs": [],
            "source": [
                "pcadat %>%\n",
                "  dplyr::mutate(col = ifelse(Feat1 > 5, \"1\", \"0\")) %>%\n",
                "ggplot(aes(x = Feat1, y = Feat2)) +\n",
                "  geom_point(size = 5) +\n",
                "  theme_bw() +\n",
                "  theme(legend.position = \"none\",\n",
                "        aspect.ratio = 1) +\n",
                "  scale_x_discrete(name =\"Feat1\", limits=seq(1, 11, 1))+\n",
                "  scale_y_discrete(name =\"Feat2\", limits=seq(1, 6, 1))\n"
            ]
        },
        {
            "cell_type": "markdown",
            "metadata": {},
            "source": [
                "While adding the second feature has not added much information (in that sense, Feat2 not as distinctive), there still appear to be two groups. However, we continue by adding the third feature (Feat3) by adding size as a way to show the third feature.\n",
                "\n"
            ]
        },
        {
            "cell_type": "code",
            "execution_count": null,
            "metadata": {},
            "outputs": [],
            "source": [
                "pcadat %>%\n",
                "ggplot(aes(x = Feat1, y = Feat2, group = Feat2, size = Feat3)) +\n",
                "  geom_point() +\n",
                "  theme_bw() +\n",
                "  theme(aspect.ratio = 1) +\n",
                "  scale_x_discrete(name =\"Feat1\", limits=seq(1, 11, 1))+\n",
                "  scale_y_discrete(name =\"Feat2\", limits=seq(1, 6, 1))\n"
            ]
        },
        {
            "cell_type": "markdown",
            "metadata": {},
            "source": [
                "Feat3 supports the two group hypothesis as small dots have values below 5 and big dots have values above 5 on the first feature scale. Finally, we add the fourth feature (Feat4) and use color to visualize this 4^th^ dimension.\n",
                "\n"
            ]
        },
        {
            "cell_type": "code",
            "execution_count": null,
            "metadata": {},
            "outputs": [],
            "source": [
                "pcadat %>%\n",
                "ggplot(aes(x = Feat1, y = Feat2, size = Feat3, color = Feat4)) +\n",
                "  geom_point() +\n",
                "  theme_bw() +\n",
                "  theme(aspect.ratio = 1) +\n",
                "  scale_x_discrete(name =\"Feat1\", limits=seq(1, 11, 1))+\n",
                "  scale_y_discrete(name =\"Feat2\", limits=seq(1, 6, 1))+\n",
                "  scale_color_viridis_b()\n"
            ]
        },
        {
            "cell_type": "markdown",
            "metadata": {},
            "source": [
                "Like the second feature, Feat4 has not added much information.\n",
                "\n",
                "Now, what would we use a PCA for in this context?\n",
                "\n",
                "> **PCA can tell us if and how many groups there are in our data and it can tell use what features are responsible for the division into groups!**\n",
                "\n",
                "\n",
                "Let's now go through a PCA step-by-step. Also, we only consider Feat1 and Feat2 to keep things very simple.\n"
            ]
        },
        {
            "cell_type": "code",
            "execution_count": null,
            "metadata": {},
            "outputs": [],
            "source": [
                "pcadat2 <- pcadat %>%\n",
                "  dplyr::select(-Feat3, -Feat4)\n",
                "# inspect\n",
                "flextable::flextable(pcadat2)\n"
            ]
        },
        {
            "cell_type": "markdown",
            "metadata": {},
            "source": [
                "We start by calculating the center of the data.\n",
                "\n"
            ]
        },
        {
            "cell_type": "code",
            "execution_count": null,
            "metadata": {},
            "outputs": [],
            "source": [
                "pcadat2 %>%\n",
                "ggplot(aes(x = Feat1, y = Feat2)) +\n",
                "  geom_point(size = 2) +\n",
                "  theme_bw() +\n",
                "  theme(legend.position = \"none\",\n",
                "        aspect.ratio = 1) +\n",
                "  scale_x_discrete(name =\"Feat1\", limits=seq(1, 11, 1))+\n",
                "  scale_y_discrete(name =\"Feat2\", limits=seq(1, 11, 1)) +\n",
                "  ggplot2::annotate(geom = \"text\", label = \"+\", x = mean(pcadat$Feat1), y = mean(pcadat$Feat2), size = 10, color = \"red\")\n"
            ]
        },
        {
            "cell_type": "markdown",
            "metadata": {},
            "source": [
                "Next we scale and center the data so that the center is at (0,0).\n",
                "\n"
            ]
        },
        {
            "cell_type": "code",
            "execution_count": null,
            "metadata": {},
            "outputs": [],
            "source": [
                "pcadat_norm <- scale(as.matrix(pcadat[,2:3]))\n",
                "\n",
                "pcadat <- as.data.frame(pcadat_norm)\n",
                "\n",
                "pcadat %>%\n",
                "ggplot(aes(x = Feat1, y = Feat2)) +\n",
                "  geom_point(size = 2) +\n",
                "  theme_bw() +\n",
                "  theme(legend.position = \"none\",\n",
                "        aspect.ratio = 1) +\n",
                "  ggplot2::annotate(geom = \"text\", label = \"+\", x = 0, y = 0, size = 10, color = \"red\") +\n",
                "  geom_vline(xintercept = 0, color = \"red\", linetype = \"dotted\") +\n",
                "  geom_hline(yintercept = 0, color = \"red\", linetype = \"dotted\") +\n",
                "  coord_cartesian(xlim = c(-2, 2), ylim = c(-2, 2))\n"
            ]
        },
        {
            "cell_type": "markdown",
            "metadata": {},
            "source": [
                "The relationship between data points is unchanged!\n",
                "\n",
                "> Important: **always center and scale your data** as the scales will impact the magnitude of variance!\n",
                "> In other words, if you do not center and scale, components can be deemed important simply because the scale of the variables is bigger (not because they are more important)!\n",
                "\n",
                "Now, we fit a line through the data.\n"
            ]
        },
        {
            "cell_type": "code",
            "execution_count": null,
            "metadata": {},
            "outputs": [],
            "source": [
                "reg <- lm(formula = Feat2 ~ Feat1,\n",
                "   data=pcadat) \n",
                "\n",
                "#get intercept and slope value\n",
                "coeff<-coefficients(reg)          \n",
                "intercept <- coeff[1]\n",
                "slope <- coeff[2]\n",
                "\n",
                "pred <- predict(reg, newdata = pcadat)\n"
            ]
        },
        {
            "cell_type": "markdown",
            "metadata": {},
            "source": "\n"
        },
        {
            "cell_type": "code",
            "execution_count": null,
            "metadata": {},
            "outputs": [],
            "source": [
                "perp.segment.coord <- function(x0, y0, a=0,b=1){\n",
                " # finds endpoint for a perpendicular segment from the point (x0,y0) to the line\n",
                " # defined by lm as y=a+b*x\n",
                "  x1 <- (x0+b*y0-a*b)/(1+b^2)\n",
                "  y1 <- a + b*x1\n",
                "  list(x0=x0, y0=y0, x1=x1, y1=y1)\n",
                "}\n",
                "# calculate correlation, must be spearman b/c of measurement\n",
                "corre <- cor(x = pcadat$Feat1, y = pcadat$Feat2, method = \"spearman\")\n",
                "# make this into a matrix\n",
                "matrix <- matrix(c(1, corre, corre, 1), nrow = 2)  \n",
                "# calculate eigenvectors and values\n",
                "eigen <- eigen(matrix)  \n",
                "eigen$vectors.scaled <- eigen$vectors %*% diag(sqrt(eigen$values)) \n",
                "ss <- perp.segment.coord(pcadat$Feat1, pcadat$Feat2,0,eigen$vectors.scaled[1,1])\n"
            ]
        },
        {
            "cell_type": "markdown",
            "metadata": {},
            "source": [
                "\n",
                "\n"
            ]
        },
        {
            "cell_type": "code",
            "execution_count": null,
            "metadata": {},
            "outputs": [],
            "source": [
                "pcadat %>%\n",
                "  ggplot(aes(x = Feat1, y = Feat2)) +\n",
                "  geom_point(size = 2) +\n",
                "  theme_bw() +\n",
                "  theme(legend.position = \"none\",\n",
                "        aspect.ratio = 1) +\n",
                "  ggplot2::annotate(geom = \"text\", label = \"+\", x = 0, y = 0, size = 10, color = \"red\") +\n",
                "  geom_vline(xintercept = 0, color = \"red\", linetype = \"dotted\") +\n",
                "  geom_hline(yintercept = 0, color = \"red\", linetype = \"dotted\") +\n",
                "  #geom_segment(data=as.data.frame(ss), aes(x = x0, y = y0, xend = x1, yend = y1), colour = \"blue\") +\n",
                "  geom_abline(intercept = 0, slope = eigen$vectors.scaled[1,1], colour = \"orange\",\n",
                "              linetype=\"dashed\", size=1)+\n",
                "  coord_cartesian(xlim = c(-2, 2), ylim = c(-2, 2))# +\n",
                "  #geom_point(data = as.data.frame(ss), aes(x = x1, y = y1), color = \"green\", size = 2)\n"
            ]
        },
        {
            "cell_type": "markdown",
            "metadata": {},
            "source": [
                "<div class=\"warning\" style='padding:0.1em; background-color:#f2f2f2; color:#51247a'>\n",
                "<span>\n",
                "<p style='margin-top:1em; text-align:center'>\n",
                "<b>IMPORTANT!<\/b><\/p>\n",
                "<p style='margin-left:1em;'>\n",
                "\n",
                "But how do we arrive at this line and what is there always talk about \"orthogonal\" when talking about PCA?\n",
                "\n",
                "Let's have a look at simple the Ordinary Least Squared (OLS) procedure that underlies regression:\n",
                "<\/p>\n",
                "<p style='margin-top:1em; text-align:center'>\n"
            ]
        },
        {
            "cell_type": "code",
            "execution_count": null,
            "metadata": {},
            "outputs": [],
            "source": [
                "pcadat %>%\n",
                "  ggplot(aes(x = Feat1, y = Feat2)) +\n",
                "  geom_point(size = 2) +\n",
                "  theme_bw() +\n",
                "  theme(legend.position = \"none\",\n",
                "        aspect.ratio = 1) +\n",
                "  ggplot2::annotate(geom = \"text\", label = \"+\", x = 0, y = 0, size = 10, color = \"red\") +\n",
                "  geom_vline(xintercept = 0, color = \"red\", linetype = \"dotted\") +\n",
                "  geom_hline(yintercept = 0, color = \"red\", linetype = \"dotted\") +\n",
                "  geom_abline(intercept = intercept, slope = slope, color=\"orange\", \n",
                "               linetype=\"dashed\", size=1) +\n",
                "  geom_segment(aes(xend = Feat1, yend = predict(lm(Feat2 ~ Feat1))), color = \"blue\")+\n",
                "  coord_cartesian(xlim = c(-2, 2), ylim = c(-2, 2))\n"
            ]
        },
        {
            "cell_type": "markdown",
            "metadata": {},
            "source": [
                "<\/p>\n",
                "<p style='margin-left:1em;'>\n",
                "\n",
                "In OLS, the lines that represent variance (or residuals) are perpendicular to the x-axis.\n",
                "\n",
                "However, in PCA, the line are perpendicular to the regression line as shown below!\n",
                "<\/p>\n",
                "<p style='margin-top:1em; text-align:center'>\n"
            ]
        },
        {
            "cell_type": "code",
            "execution_count": null,
            "metadata": {},
            "outputs": [],
            "source": [
                "pcadat %>%\n",
                "  ggplot(aes(x = Feat1, y = Feat2)) +\n",
                "  geom_point(size = 2) +\n",
                "  theme_bw() +\n",
                "  theme(legend.position = \"none\",\n",
                "        aspect.ratio = 1) +\n",
                "  ggplot2::annotate(geom = \"text\", label = \"+\", x = 0, y = 0, size = 10, color = \"red\") +\n",
                "  geom_vline(xintercept = 0, color = \"red\", linetype = \"dotted\") +\n",
                "  geom_hline(yintercept = 0, color = \"red\", linetype = \"dotted\") +\n",
                "  geom_segment(data=as.data.frame(ss), aes(x = x0, y = y0, xend = x1, yend = y1), colour = \"blue\") +\n",
                "  geom_abline(intercept = 0, slope = eigen$vectors.scaled[1,1], colour = \"orange\",\n",
                "              linetype=\"dashed\", size=1) +\n",
                "  geom_point(data = as.data.frame(ss), aes(x = x1, y = y1), color = \"green\", size = 2)+\n",
                "  coord_cartesian(xlim = c(-2, 2), ylim = c(-2, 2))\n"
            ]
        },
        {
            "cell_type": "markdown",
            "metadata": {},
            "source": [
                "<\/p>\n",
                "<\/span>\n",
                "<\/div>\n",
                "\n",
                "\n",
                "\n",
                "The line that minimizes variance is called **Principal Component 1** (PC1) and it is different from a regression line. The PC1 can be found by minimizing the orthogonal distances (blue lines above) between data points and their projections (green points above)!. \n",
                "\n",
                "An alternative way to find PC1 is actually not to try and minimize the distance between the data point and its projection but to maximize the distance between the projection (the green points on the line) and the origin (the center of the coordinate system). We can then square the distances between projections and the origin and add these squared distances, which gives us the *sum of squared distances* or *SS(distances)*.\n",
                "\n",
                "\n",
                "\n",
                "\n",
                "PC1 has a slope of `r eigen$vectors.scaled[1,1]` - this already shows us that the data is spread much more along PC1 that along PC2!\n",
                "\n",
                "We go about `r 1 / eigen$vectors.scaled[1,1]` units (1 / `r round(eigen$vectors.scaled[1,1], 4)`) to the right and 1 unit up.\n"
            ]
        },
        {
            "cell_type": "code",
            "execution_count": null,
            "metadata": {},
            "outputs": [],
            "source": [
                "pcadat %>%\n",
                "  ggplot(aes(x = Feat1, y = Feat2)) +\n",
                "  geom_point(size = 2) +\n",
                "  theme_bw() +\n",
                "  theme(legend.position = \"none\",\n",
                "        aspect.ratio = 1) +\n",
                "  ggplot2::annotate(geom = \"text\", label = \"+\", x = 0, y = 0, size = 10, color = \"red\") +\n",
                "  geom_vline(xintercept = 0, color = \"red\", linetype = \"dotted\") +\n",
                "  geom_hline(yintercept = 0, color = \"red\", linetype = \"dotted\") +\n",
                "  geom_abline(intercept = 0, slope = eigen$vectors.scaled[1,1], colour = \"orange\",\n",
                "              linetype=\"dashed\", size=1) +\n",
                "  geom_segment(aes(x = 0, y = 0, xend = 1/eigen$vectors.scaled[1,1], yend = 0),\n",
                "                  arrow = arrow(length = unit(0.25, \"cm\")), color = \"blue\") +\n",
                "  geom_segment(aes(x = 1/eigen$vectors.scaled[1,1], y = 0, xend = 1/eigen$vectors.scaled[1,1], yend = 1),\n",
                "                  arrow = arrow(length = unit(0.25, \"cm\")), color = \"blue\") +\n",
                "  geom_segment(aes(x = 0, y = 0, xend = 1/eigen$vectors.scaled[1,1], yend = 1),\n",
                "                  size = 1.5, arrow = arrow(length = unit(0.25, \"cm\")), color = \"red\") +\n",
                "  ggplot2::annotate(geom = \"text\", label = \"a\", x = 0.6, y = 0.8, color = \"red\") +\n",
                "  ggplot2::annotate(geom = \"text\", label = \"b\", x = 0.6, y = -0.25, color = \"blue\") +\n",
                "  ggplot2::annotate(geom = \"text\", label = \"c\", x = 1.25, y = 0.5, color = \"blue\")+\n",
                "  coord_cartesian(xlim = c(-2, 2), ylim = c(-2, 2))\n"
            ]
        },
        {
            "cell_type": "markdown",
            "metadata": {},
            "source": [
                "Now, we find the value for a (square root of b^2^ + c^2^) =  `r sqrt(1 + (1 / eigen$vectors.scaled[1,1])^2)`. \n",
                "\n",
                "Next, we scale b and c so that a is 1.\n",
                "\n",
                "a^2^ = b^2^ + c^2^\n",
                "\n",
                "b = 1.0625593 / 1.4591204 = 0.7282191\n",
                "\n",
                "c = 1 / 1.4591204 = 0.6853444\n",
                "\n",
                "\n",
                "To make PC1, we need 0.738 of Feat1 and 0.685 of Feat2.\n",
                "\n",
                "This 1 unit long vector (a) is called the Eigenvector for PC1.\n",
                "\n",
                "> Eigenvector and Eigenvalue are not the same! \n",
                "> Eigenvector represent the factor loadings for each observed variable on a specific factor.\n",
                "> Eigenvalue represents the amount of variance explained by an entire factor.\n",
                "\n",
                "The proportions (0.738 and 0.685) are called the loading scores.\n"
            ]
        },
        {
            "cell_type": "code",
            "execution_count": null,
            "metadata": {},
            "outputs": [],
            "source": [
                "pcadat %>%\n",
                "  ggplot(aes(x = Feat1, y = Feat2)) +\n",
                "  geom_point(size = 2) +\n",
                "  theme_bw() +\n",
                "  theme(legend.position = \"none\",\n",
                "        aspect.ratio = 1) +\n",
                "  ggplot2::annotate(geom = \"text\", label = \"+\", x = 0, y = 0, size = 10) +\n",
                "  geom_vline(xintercept = 0, color = \"red\", linetype = \"dotted\") +\n",
                "  geom_hline(yintercept = 0, color = \"red\", linetype = \"dotted\") +\n",
                "  geom_abline(intercept = 0, slope = eigen$vectors.scaled[1,1], colour = \"orange\",\n",
                "              linetype=\"dashed\", size=1) +\n",
                "  geom_segment(aes(x = 0, y = 0, xend = 0.7282191, yend = 0.6853444), size = 1.5, \n",
                "                  arrow = arrow(length = unit(0.25, \"cm\")), color = \"red\") +\n",
                "  ggplot2::annotate(geom = \"text\", label = \"Eigenvector of PC1\", x = -0.6, y = 0.5, color = \"red\")+\n",
                "  coord_cartesian(xlim = c(-2, 2), ylim = c(-2, 2))\n"
            ]
        },
        {
            "cell_type": "markdown",
            "metadata": {},
            "source": [
                "PC2 is simply the perpendicular line to PC1 that goes through 0,0.\n",
                "\n"
            ]
        },
        {
            "cell_type": "code",
            "execution_count": null,
            "metadata": {},
            "outputs": [],
            "source": [
                "pcadat %>%\n",
                "  ggplot(aes(x = Feat1, y = Feat2)) +\n",
                "  geom_point(size = 2) +\n",
                "  theme_bw() +\n",
                "  theme(legend.position = \"none\",\n",
                "        aspect.ratio = 1) +\n",
                "  ggplot2::annotate(geom = \"text\", label = \"+\", x = 0, y = 0, size = 10) +\n",
                "  geom_vline(xintercept = 0, color = \"red\", linetype = \"dotted\") +\n",
                "  geom_hline(yintercept = 0, color = \"red\", linetype = \"dotted\") +\n",
                "  geom_abline(intercept = 0, slope = eigen$vectors.scaled[1,1], colour = \"orange\",\n",
                "              linetype=\"dashed\", size=1) +\n",
                "    geom_abline(intercept = 0, slope = -1/eigen$vectors.scaled[1,1], colour = \"blue\",\n",
                "              linetype=\"dashed\", size=1) +\n",
                "  coord_cartesian(xlim = c(-2, 2), ylim = c(-2, 2))\n"
            ]
        },
        {
            "cell_type": "markdown",
            "metadata": {},
            "source": [
                "As PC1 and PC2 are perpendicular, the Eigenvector of PC2 is -0.685 of Feat1 and 0.728 of Feat2.\n",
                "\n"
            ]
        },
        {
            "cell_type": "code",
            "execution_count": null,
            "metadata": {},
            "outputs": [],
            "source": [
                "angle_rad <- atan(eigen$vectors.scaled[1,1])\n",
                "angle_deg <- angle_rad * (180 / pi)\n",
                "#angle_deg\n",
                "\n",
                "degree <- 0-angle_deg  # Rotation angle in degrees\n",
                "radians <- degree * (pi / 180)  # Convert degrees to radians\n",
                "\n",
                "# Rotate the coordinates\n",
                "pcadat_rotated <- data.frame(Feat1 = pcadat$Feat1 * cos(radians) - pcadat$Feat2 * sin(radians),\n",
                "                             Feat2 = pcadat$Feat1 * sin(radians) + pcadat$Feat2 * cos(radians))\n",
                "\n",
                "pcadat_rotated %>%\n",
                "  ggplot(aes(x = Feat1, y = Feat2)) +\n",
                "  geom_point(size = 2) +\n",
                "  theme_bw() +\n",
                "  theme(legend.position = \"none\",\n",
                "        aspect.ratio = 1) +\n",
                "  geom_vline(xintercept = 0, color = \"blue\", linetype = \"dotted\", size = 1.5) +\n",
                "  geom_hline(yintercept = 0, color = \"orange\", linetype = \"dotted\", size = 1.5) +\n",
                "  coord_cartesian(xlim = c(-2, 2), ylim = c(-2, 2))\n"
            ]
        },
        {
            "cell_type": "markdown",
            "metadata": {},
            "source": [
                "We can (but have to) rotate the PC1 and make the points smaller (so that our plot looks more like a proper PCA plot).\n",
                "\n"
            ]
        },
        {
            "cell_type": "code",
            "execution_count": null,
            "metadata": {},
            "outputs": [],
            "source": [
                "# Rotate the coordinates\n",
                "pcadat_rotated <- pcadat_rotated %>%\n",
                "  dplyr::mutate(Feat1 = -Feat1) \n",
                "\n",
                "pcadat_rotated %>%\n",
                "  ggplot(aes(x = Feat1, y = Feat2)) +\n",
                "  geom_point() +\n",
                "  theme_bw() +\n",
                "  theme(legend.position = \"none\",\n",
                "        aspect.ratio = 1) +\n",
                "  geom_vline(xintercept = 0, linetype = \"dotted\", size = 1) +\n",
                "  geom_hline(yintercept = 0, linetype = \"dotted\", size = 1) +\n",
                "  coord_cartesian(xlim = c(-2, 2), ylim = c(-2, 2)) +\n",
                "  labs(x = \"PC1\", y = \"PC2\")\n"
            ]
        },
        {
            "cell_type": "markdown",
            "metadata": {},
            "source": [
                "To plot the results of a PCA, we simply rotate the plot so that the PCs reflect the axes and we project the points onto the PCs.\n",
                "\n"
            ]
        },
        {
            "cell_type": "code",
            "execution_count": null,
            "metadata": {},
            "outputs": [],
            "source": [
                "# generate data\n",
                "df <- data.frame(pcadat$Feat1,\n",
                "                 pcadat$Feat2)\n",
                "colnames(df) <- c(\"Feat1\", \"Feat2\")\n",
                "# perform PCA\n",
                "pcaex <- prcomp(df, center = T, scale = T)\n",
                "# visualize PCA results\n",
                "fviz_pca_ind(pcaex, label =  \"\") +\n",
                "  coord_cartesian(xlim = c(-2, 2), ylim = c(-2, 2)) +\n",
                "  ggtitle(\"PCA plot\") +\n",
                "  theme(aspect.ratio = 1)\n"
            ]
        },
        {
            "cell_type": "markdown",
            "metadata": {},
            "source": [
                "Now we have an understanding of how we arrive at the visual representation of a PCA. But how do we arrive at the explained variance?\n",
                "\n",
                "In the context of PCA, variance refers to summative variance or overall/total variability. \n",
                "\n",
                "To get a better grasp of what this means, let's consider a covariance matrix of some 3 variables (rather than just 2 variables as above). Their variances are on the diagonal, and the sum of the 3 values (`r round(sum(1.343730519, -.160152268, .186470243, -.160152268, .619205620, -.126684273, .186470243 , -.126684273,  1.485549631), 3)`) is the overall variability.\n"
            ]
        },
        {
            "cell_type": "code",
            "execution_count": null,
            "metadata": {},
            "outputs": [],
            "source": [
                "mx1 <- matrix(c(1.343730519, -.160152268, .186470243,\n",
                "                -.160152268, .619205620, -.126684273, \n",
                "                .186470243 , -.126684273,  1.485549631), nrow = 3)\n",
                "rownames(mx1) <- NULL\n",
                "colnames(mx1) <- NULL\n",
                "flextable::flextable(as.data.frame(mx1))\n"
            ]
        },
        {
            "cell_type": "markdown",
            "metadata": {},
            "source": [
                "Now, PCA replaces original variables with new variables, called principal components, which are orthogonal (i.e. they have zero covariation!) and have variances (called eigenvalues) in decreasing order. So, the covariance matrix between the principal components extracted from the above data is this:\n",
                "\n"
            ]
        },
        {
            "cell_type": "code",
            "execution_count": null,
            "metadata": {},
            "outputs": [],
            "source": [
                "mx2 <- matrix(c(1.651354285, .000000000, .000000000, \n",
                "                .000000000, 1.220288343, .000000000, \n",
                "                .000000000, .000000000, .576843142), nrow = 3)\n",
                "rownames(mx2) <- NULL\n",
                "colnames(mx2) <- NULL\n",
                "flextable::flextable(as.data.frame(mx2))\n"
            ]
        },
        {
            "cell_type": "markdown",
            "metadata": {},
            "source": [
                "Note that the diagonal sum is still `r round(sum(1.651354285, .000000000, .000000000, .000000000, 1.220288343, .000000000, .000000000, .000000000, .576843142), 3)`, which says that all 3 components account for all the multivariate variability. The PC1 accounts for or \"explains\" 1.651/3.448 = 47.9% of the overall variability; the PC2 explains 1.220/3.448 = 35.4% of it; the 3rd one explains .577/3.448 = 16.7% of it.\n",
                "\n",
                "So, what do they mean when they say that PCA explains maximal variance? That is not, of course, that it finds the largest variance among three values 1.343730519 .619205620 1.485549631. PCA finds, in the data space, the dimension (direction) with the largest variance out of the overall variance 1.343730519+.619205620+1.485549631 = 3.448. That largest variance would be 1.651354285. Then it finds the dimension of the second largest variance, orthogonal to the first one, out of the remaining 3.448-1.651354285 overall variance. That 2nd dimension would be 1.220288343 variance. And so on. The last remaining dimension is .576843142 variance. \n",
                "\n",
                "For our example, we can extract the amount of variance accounted for as shown below:\n",
                "\n",
                "Step 1: get loading scores\n"
            ]
        },
        {
            "cell_type": "code",
            "execution_count": null,
            "metadata": {},
            "outputs": [],
            "source": [
                "pcaex$x\n",
                "\n"
            ]
        },
        {
            "cell_type": "markdown",
            "metadata": {},
            "source": "\n"
        },
        {
            "cell_type": "code",
            "execution_count": null,
            "metadata": {},
            "outputs": [],
            "source": [
                "# Rotate the coordinates\n",
                "pcadat_rotated <- pcadat_rotated %>%\n",
                "  dplyr::mutate(Feat1 = -Feat1) \n",
                "\n",
                "pcadat_rotated %>%\n",
                "  ggplot(aes(x = Feat1, y = Feat2)) +\n",
                "  geom_point() +\n",
                "  theme_bw() +\n",
                "  theme(legend.position = \"none\",\n",
                "        aspect.ratio = 1) +\n",
                "  geom_vline(xintercept = 0, linetype = \"dotted\", size = 1) +\n",
                "  geom_hline(yintercept = 0, linetype = \"dotted\", size = 1) +\n",
                "  coord_cartesian(xlim = c(-2, 2), ylim = c(-2, 2)) +\n",
                "  labs(x = \"PC1\", y = \"PC2\") + \n",
                "  geom_segment(aes(y = 0, xend = Feat1, yend = Feat2), color = \"blue\") + \n",
                "  geom_segment(aes(x = 0, xend = Feat1, yend = Feat2), color = \"red\") +\n",
                "  ggplot2::annotate(geom = \"text\", label = \"PC2 \\nloadings\", x = -1.0, y = -.3, color = \"blue\")+\n",
                "  ggplot2::annotate(geom = \"text\", label = \"PC1 loadings\", x = -0.6, y = 0.6, color = \"red\")\n"
            ]
        },
        {
            "cell_type": "markdown",
            "metadata": {},
            "source": [
                "Step 2: calculate standard deviations of PC1 and PC2\n",
                "\n"
            ]
        },
        {
            "cell_type": "code",
            "execution_count": null,
            "metadata": {},
            "outputs": [],
            "source": [
                "sdpc1 <- sd(pcaex$x[,1])\n",
                "sdpc2 <- sd(pcaex$x[,2])\n",
                "sdpc1; sdpc2\n"
            ]
        },
        {
            "cell_type": "markdown",
            "metadata": {},
            "source": [
                "Step 3: use standard deviations to calculate the amount of variance explained by each component \n",
                "\n"
            ]
        },
        {
            "cell_type": "code",
            "execution_count": null,
            "metadata": {},
            "outputs": [],
            "source": [
                "# Proportion of Variance PC1 = sd PC1 squared / (sd PC1 squared + sd PC2 squared)\n",
                "sdpc1^2 / (sdpc1^2 + sdpc2^2) \n",
                "# Proportion of Variance PC2 = sd PC2 squared / (sd PC1 squared + sd PC2 squared)\n",
                "sdpc2^2 / (sdpc1^2 + sdpc2^2) \n"
            ]
        },
        {
            "cell_type": "markdown",
            "metadata": {},
            "source": [
                "According to our manual calculation, PC1 explains `r round(sdpc1^2 / (sdpc1^2 + sdpc2^2) , 4)` % of the variation while PC2 explains `r round(sdpc2^2 / (sdpc1^2 + sdpc2^2) , 4)` % of the variation. To check if this is correct, we check our results against the results provided by the `prcomp` function.\n",
                "\n"
            ]
        },
        {
            "cell_type": "code",
            "execution_count": null,
            "metadata": {},
            "outputs": [],
            "source": [
                "# results PCA example\n",
                "summary(pcaex)\n"
            ]
        },
        {
            "cell_type": "markdown",
            "metadata": {},
            "source": [
                "But how do we arrive at the standard deviations of the PCs? The standard deviations of the PCs are the covariance matrix values for the respective PCs! So let's have a look at the covariance matrices of the raw data, the scales data, and  the rotated, final data. \n",
                "\n"
            ]
        },
        {
            "cell_type": "code",
            "execution_count": null,
            "metadata": {},
            "outputs": [],
            "source": [
                "# covariance matrix of raw data\n",
                "cov(pcadat2[,2:3])\n",
                "# covariance matrix of scaled data\n",
                "cov(pcadat)\n",
                "# covariance matrix of pca\n",
                "cov(pcaex$x)\n"
            ]
        },
        {
            "cell_type": "markdown",
            "metadata": {},
            "source": [
                "We see that the standard deviation of PC1 is equal to the sum of the first row (or column) of the scaled covariance matrix. But more importantly, we see that the **squared standard deviations of the PCs are equal to the variances (eigenvalues) of the PCs in the covariance matrix**. \n",
                "\n"
            ]
        },
        {
            "cell_type": "code",
            "execution_count": null,
            "metadata": {},
            "outputs": [],
            "source": [
                "sdpc1^2 # sd of PC1 squared\n",
                "# which is equal to\n",
                "sum(cov(pcaex$x)[1,])\n"
            ]
        },
        {
            "cell_type": "markdown",
            "metadata": {},
            "source": [
                "\n",
                "\n"
            ]
        },
        {
            "cell_type": "code",
            "execution_count": null,
            "metadata": {},
            "outputs": [],
            "source": [
                "sdpc2^2 # sd of PC2 squared\n",
                "# which is equal to\n",
                "sum(cov(pcaex$x)[2,])\n"
            ]
        },
        {
            "cell_type": "markdown",
            "metadata": {},
            "source": [
                "Now that we have worked through one example of a PCA manually, we turn to several examples to show how one can implement PCA in R to showcase what PCA can be used for.\n",
                "\n",
                "### Example 1 {-} \n",
                "\n",
                "Here, we will show\n",
                "\n",
                "+ how to use the `prcomp()` function to perform PCA  \n",
                "\n",
                "+ how to draw a PCA plot using ggplot2  \n",
                "\n",
                "+ how to determine how much variation each component accounts for  \n",
                "\n",
                "+ how to examine the loading scores to determine what variables have the largest effect on the graph\n",
                "\n",
                "In this example, the data is in a matrix called `pcadat` where columns are individual samples (i.e. languages) and rows are measurements taken for all the samples (i.e. features).\n"
            ]
        },
        {
            "cell_type": "code",
            "execution_count": null,
            "metadata": {},
            "outputs": [],
            "source": [
                "pcadat <- matrix(nrow=100, ncol=10)\n",
                "colnames(pcadat) <- c(\n",
                "  paste(\"indoeu\", 1:5, sep=\"\"), # Indo-European languages\n",
                "  paste(\"austro\", 1:5, sep=\"\")) # Austronesian languages\n",
                "rownames(pcadat) <- paste(\"feature\", 1:100, sep=\"\")\n",
                "for (i in 1:100) {\n",
                "  indoeu.values <- rpois(5, lambda=sample(x=10:1000, size=1))\n",
                "  austro.values <- rpois(5, lambda=sample(x=10:1000, size=1))\n",
                " \n",
                "  pcadat[i,] <- c(indoeu.values, austro.values)\n",
                "}\n",
                "# inspect data\n",
                "head(pcadat); dim(pcadat)\n"
            ]
        },
        {
            "cell_type": "markdown",
            "metadata": {},
            "source": [
                "We now implement the PCA using the `prcomp` function from the `stats` package. In our case, we specify that we want to transpose the data (using the `t` function) because **we need features to represent columns (not rows!)** and we set the argument `scale` to TRUE as the data has to be normalised for a PCA to provide reliable results. \n",
                "\n"
            ]
        },
        {
            "cell_type": "code",
            "execution_count": null,
            "metadata": {},
            "outputs": [],
            "source": [
                "pca <- prcomp(t(pcadat), scale=TRUE) \n",
                "\n"
            ]
        },
        {
            "cell_type": "markdown",
            "metadata": {},
            "source": [
                "Now, we generate a scree plot to show how much variance is accounted for by each component. We start by preparing the data.\n",
                "\n"
            ]
        },
        {
            "cell_type": "code",
            "execution_count": null,
            "metadata": {},
            "outputs": [],
            "source": [
                "# prepare data\n",
                "pca.var <- pca$sdev^2\n",
                "# extract percentage of contribution\n",
                "pca.var.per <- round(pca.var/sum(pca.var)*100, 1)\n",
                "# generate data frame for visualization\n",
                "pcascreedat <- data.frame(Component = paste0(\"PC\", 1:10),\n",
                "                          Percent = round(pca.var/sum(pca.var)*100, 2)) %>%\n",
                "  dplyr::mutate(Text = paste0(Percent, \"%\"),\n",
                "                Component = factor(Component, \n",
                "                                    levels = c(\"PC1\", \"PC2\", \"PC3\", \"PC4\", \"PC5\", \"PC6\", \"PC7\", \"PC8\", \"PC9\", \"PC10\")))\n",
                "# inspect\n",
                "pcascreedat\n"
            ]
        },
        {
            "cell_type": "markdown",
            "metadata": {},
            "source": [
                "Now that the dtaa is formatted appropriately, we generate the scree plot.\n",
                "\n"
            ]
        },
        {
            "cell_type": "code",
            "execution_count": null,
            "metadata": {},
            "outputs": [],
            "source": [
                "ggplot(pcascreedat, aes(x = Component, y = Percent, label = Text)) +\n",
                "  geom_bar(stat = \"identity\") +\n",
                "  geom_text(vjust=-1.6, size = 3) +\n",
                "  ggtitle(\"Scree Plot\") +\n",
                "  labs(x=\"Principal Components\", y=\"Percent Variation\") +\n",
                "  theme_bw() +\n",
                "  coord_cartesian(ylim = c(0, 100))\n"
            ]
        },
        {
            "cell_type": "markdown",
            "metadata": {},
            "source": [
                "The scree plots shows that the PC1 accounts for 87.69% of the variability while the PC2 only accounts for 3.52% of the variability. This means that one component suffices to differentiate the data. \n",
                "\n",
                "Now we make a fancy looking plot that shows the PCs and the variation.\n"
            ]
        },
        {
            "cell_type": "code",
            "execution_count": null,
            "metadata": {},
            "outputs": [],
            "source": [
                "pca.data <- data.frame(Sample=rownames(pca$x),\n",
                "                       X=pca$x[,1],\n",
                "                       Y=pca$x[,2]) %>%\n",
                "  ggplot(aes(x=X, y=Y, label=Sample)) +\n",
                "  geom_text() +\n",
                "  xlab(paste(\"PC1 (\", pca.var.per[1], \"%)\", sep=\"\")) +\n",
                "  ylab(paste(\"PC2 (\", pca.var.per[2], \"%)\", sep=\"\")) +\n",
                "  theme_bw() +\n",
                "  ggtitle(\"PCA Graph\") +\n",
                "  coord_cartesian(xlim = c(-11, 11))\n"
            ]
        },
        {
            "cell_type": "markdown",
            "metadata": {},
            "source": [
                "Next, we get the names of the most important 5 features that contribute most to PC1.\n",
                "\n"
            ]
        },
        {
            "cell_type": "code",
            "execution_count": null,
            "metadata": {},
            "outputs": [],
            "source": [
                "loading_scores <- pca$rotation[,1]\n",
                "# extract the magnitudes of the scores\n",
                "feature_scores <- abs(loading_scores) \n",
                "# extract the 5 highest scores\n",
                "feature_score_ranked <- sort(feature_scores, decreasing=TRUE)\n",
                "top_5_features <- names(feature_score_ranked[1:5])\n",
                "# show the names of the top 5 features \n",
                "top_5_features\n"
            ]
        },
        {
            "cell_type": "markdown",
            "metadata": {},
            "source": [
                "Now, we show the scores (and +/- sign)\n",
                "\n"
            ]
        },
        {
            "cell_type": "code",
            "execution_count": null,
            "metadata": {},
            "outputs": [],
            "source": [
                "pca$rotation[top_5_features,1]\n",
                "\n"
            ]
        },
        {
            "cell_type": "markdown",
            "metadata": {},
            "source": [
                "### Example 2{-} \n",
                "\n",
                "In this example, we explore the use of PCA for survey data. Specifically, we want to use PCA to check if 5 items reflect the underlying factor appropriately or if one of the items needs to be replaced.\n"
            ]
        },
        {
            "cell_type": "code",
            "execution_count": null,
            "metadata": {},
            "outputs": [],
            "source": [
                "surveydata <- base::readRDS(url(\"https://slcladal.github.io/data/sud.rda\", \"rb\"))\n",
                "# inspect\n",
                "flextable::flextable(head(surveydata, 10))\n"
            ]
        },
        {
            "cell_type": "markdown",
            "metadata": {},
            "source": [
                "We now implement the PCA.\n",
                "\n"
            ]
        },
        {
            "cell_type": "code",
            "execution_count": null,
            "metadata": {},
            "outputs": [],
            "source": [
                "# entering raw data and extracting PCs  from the correlation matrix\n",
                "pca_res2 <- princomp(surveydata[c(\"Q01_Outgoing\", \n",
                "                                  \"Q02_Outgoing\",  \n",
                "                                  \"Q03_Outgoing\",  \n",
                "                                  \"Q04_Outgoing\",  \n",
                "                                  \"Q05_Outgoing\")])\n",
                "# print variance accounted for\n",
                "summary(pca_res2) \n"
            ]
        },
        {
            "cell_type": "markdown",
            "metadata": {},
            "source": [
                "The cumulative proportion of variance already shows that the five items represent a single underlying factor as 91.5% of the variance is explained by PC1 alone!\n",
                "\n",
                "The loading scores for PC1 are very similar for all items and thus show that none of the items under performs. In such a case, it might make sense to remove items, not because they do not capture the underlying concept but to reduce the items for participants.\n"
            ]
        },
        {
            "cell_type": "code",
            "execution_count": null,
            "metadata": {},
            "outputs": [],
            "source": [
                "# prepare data\n",
                "pca2.var <- pca_res2$sdev^2\n",
                "# extract percentage of contribution\n",
                "pca2.var.per <- round(pca.var/sum(pca.var)*100, 1)\n",
                "# generate data frame for visualization\n",
                "data.frame(Component = paste0(\"PC\", 1:5),\n",
                "                          Percent = round(pca2.var/sum(pca2.var)*100, 2)) %>%\n",
                "  dplyr::mutate(Text = paste0(Percent, \"%\"),\n",
                "                Component = factor(Component, \n",
                "                                    levels = c(\"PC1\", \"PC2\", \"PC3\", \"PC4\", \"PC5\"))) %>%\n",
                "  ggplot(aes(x = Component, y = Percent, label = Text)) +\n",
                "  geom_bar(stat = \"identity\") +\n",
                "  geom_text(vjust=-1.6, size = 3) +\n",
                "  ggtitle(\"Scree Plot\") +\n",
                "  labs(x=\"Principal Components\", y=\"Percent Variation\") +\n",
                "  theme_bw() +\n",
                "  coord_cartesian(ylim = c(0, 100))\n"
            ]
        },
        {
            "cell_type": "markdown",
            "metadata": {},
            "source": [
                "We now plot the loading scores for each participant to see if we can see groups among the participants based on outgoingness.\n",
                "\n"
            ]
        },
        {
            "cell_type": "code",
            "execution_count": null,
            "metadata": {},
            "outputs": [],
            "source": [
                "pca_res2$scores %>%\n",
                "  as.data.frame() %>%\n",
                "  dplyr::rename(PC1 = 1,\n",
                "                PC2 = 2,\n",
                "                PC3 = 3,\n",
                "                PC4 = 4,\n",
                "                PC5 = 5) %>%\n",
                "  dplyr::mutate(Participants = paste0(\"P\", 1:20),\n",
                "                clr = ifelse(PC1 > 0, 1, 0)) %>%\n",
                "  ggplot(aes(x = PC1, y = PC2, color = clr, label = Participants)) +\n",
                "  geom_point(size=2) +\n",
                "  geom_text(size = 3, nudge_x = -.2, check_overlap = T) +\n",
                "  theme_bw() +\n",
                "  scale_color_viridis_b() +\n",
                "  theme(legend.position = \"none\")\n"
            ]
        },
        {
            "cell_type": "markdown",
            "metadata": {},
            "source": [
                "The figure shows that based on PC1, we can distinguish between subjects who are very outgoign and subjects that are not very outgoing.\n",
                "\n",
                "### Example 3 {-}\n",
                "\n",
                "\n",
                "In this example, we use the `biopsy` data to see what variables can be used to predict malignant melanomas.\n",
                "\n",
                "In a first step, we remove any data points with missing values and add meaningful variable names.\n"
            ]
        },
        {
            "cell_type": "code",
            "execution_count": null,
            "metadata": {},
            "outputs": [],
            "source": [
                "data(biopsy)\n",
                "biopsy_nona <- biopsy %>%\n",
                "  tidyr::drop_na() %>%\n",
                "  # add meaningful variable names\n",
                "  dplyr::rename(ClumpSize = V1,\n",
                "                CellSize = V2,\n",
                "                CellShape = V3,\n",
                "                Adhesion = V4,\n",
                "                EpithelialSize = V5,\n",
                "                Nuclei = V6,\n",
                "                Chromatin = V7,\n",
                "                Nucleoli = V8,\n",
                "                Mitoses = V9)\n",
                "# inspect data\n",
                "flextable::flextable(head(biopsy_nona, 10))\n"
            ]
        },
        {
            "cell_type": "markdown",
            "metadata": {},
            "source": [
                "Next, we remove non-numeric variables.\n",
                "\n"
            ]
        },
        {
            "cell_type": "code",
            "execution_count": null,
            "metadata": {},
            "outputs": [],
            "source": [
                "biopsy_num <- biopsy_nona %>%\n",
                "  dplyr::select_if(is.numeric)\n",
                "# inspect data\n",
                "flextable::flextable(head(biopsy_num, 10))\n"
            ]
        },
        {
            "cell_type": "markdown",
            "metadata": {},
            "source": [
                "We can  perform the PCA.\n",
                "\n"
            ]
        },
        {
            "cell_type": "code",
            "execution_count": null,
            "metadata": {},
            "outputs": [],
            "source": [
                "biopsy_pca <- prcomp(biopsy_num,\n",
                "                     scale = T)\n",
                "# summary\n",
                "summary(biopsy_pca)\n"
            ]
        },
        {
            "cell_type": "markdown",
            "metadata": {},
            "source": [
                "First, we create a scree plot of the variance captured by each component.\n",
                "\n"
            ]
        },
        {
            "cell_type": "code",
            "execution_count": null,
            "metadata": {},
            "outputs": [],
            "source": [
                "factoextra::fviz_eig(biopsy_pca,\n",
                "                     addlabels = T,\n",
                "                     ylim = c(0, 80),\n",
                "                     barfill = \"gray50\",\n",
                "                     barcolor = \"gray20\")\n"
            ]
        },
        {
            "cell_type": "markdown",
            "metadata": {},
            "source": [
                "We now create a pretty biplot to show the results of the PCA. \n",
                "\n"
            ]
        },
        {
            "cell_type": "code",
            "execution_count": null,
            "metadata": {},
            "outputs": [],
            "source": [
                "fviz_pca_biplot(biopsy_pca,\n",
                "                geom = \"point\",\n",
                "                # no data point labels\n",
                "                label = \"var\",\n",
                "                # color by class\n",
                "                habillage = biopsy_nona$class,\n",
                "                # change variable color \n",
                "                col.var = \"black\") + \n",
                "  # adapt data point color\n",
                "  ggplot2::scale_color_manual(values = c(\"orange\", \"purple\")) +\n",
                "  # add title\n",
                "  ggtitle(\"A pretty biplot\")\n"
            ]
        },
        {
            "cell_type": "markdown",
            "metadata": {},
            "source": [
                "The plot above is also known as variable correlation plot or biplot. A biplot overlays a score plot with a loading plot and thus shows individual data points as well as the relationships between all variables (in the form of arrows). It can be interpreted as follow:\n",
                "\n",
                "+ Positively correlated variables are grouped together.  \n",
                "+ Negatively correlated variables would be positioned on opposite sides of the plot origin (opposed quadrants).  \n",
                "+ The distance between variables and the origin measures the quality of the variables on the factor map.  \n",
                "+ Variables that are away from the origin are well represented on the factor map.\n",
                "\n",
                "But why are all variables cluster together?\n",
                "\n",
                "Let's have a look at the correlations between variables.\n"
            ]
        },
        {
            "cell_type": "code",
            "execution_count": null,
            "metadata": {},
            "outputs": [],
            "source": [
                "flextable::flextable(as.data.frame(cor(scale(biopsy_num))))\n",
                "\n"
            ]
        },
        {
            "cell_type": "markdown",
            "metadata": {},
            "source": [
                "The correlation matrix shows that all variables are positively correlated which explains why all variables cluster together. The low correlations between the other variables and *Mitosis* explain why it stands out.\n",
                "\n",
                "## Multidimensional Scaling {-}\n",
                "\n",
                "Multidimensional Scaling (MDS, see @davison1983introduction or @jacoby2018multidimensional) is used for visualizing high-dimensional data in a lower-dimensional space **while preserving pairwise distances** or similarities between data points. MDS aims to represent the data in a way that maintains the relationships among data points as much as possible. \n",
                "\n",
                "There are two types of MDS:\n",
                "\n",
                "+ **metric or classical MDS**: metric MDS aims to represent the distances between objects in a way that preserves the original dissimilarity/similarity relationships as accurately as possible. It assumes that the input data reflects actual distances or dissimilarities and it uses algorithms such as *Principal Coordinate Analysis* (PCoA) to transform the data into a lower-dimensional space while trying to maintain the original pairwise distances.\n",
                "\n",
                "+ **non-metric MDS**: non-metric MDS aims to represent the rank order of the distances or dissimilarities between objects, rather than the actual distances. It is more suitable when the input data does not have a direct metric interpretation or when the distances are only known in terms of ordinal rankings.\n",
                "\n",
                "MDS works exactly like PCA with one important difference: **while PCA starts off with correlations between variables (the covariance matrix), MDS start of with distances (and thus relies on a distance matrix)!**\n",
                "\n",
                "### Example 1 {-}\n",
                "\n",
                "We begin by loading data. This fictitious data set represents responses to 15 items by 20 participants. The 15 items aim to assess 3 different psychological constructs:\n",
                "\n",
                "+ outgoingness (extroversion)  \n",
                "\n",
                "+ intelligence  \n",
                "\n",
                "+ attitude\n"
            ]
        },
        {
            "cell_type": "code",
            "execution_count": null,
            "metadata": {},
            "outputs": [],
            "source": [
                "surveydata <- base::readRDS(url(\"https://slcladal.github.io/data/sud.rda\", \"rb\"))\n",
                "# inspect\n",
                "report(surveydata)\n"
            ]
        },
        {
            "cell_type": "markdown",
            "metadata": {},
            "source": [
                "As MDS, like PCA and FA, works only on numeric data, we remove non-numeric variables from the data.\n",
                "\n"
            ]
        },
        {
            "cell_type": "code",
            "execution_count": null,
            "metadata": {},
            "outputs": [],
            "source": [
                "surveydata <- surveydata %>% \n",
                "  dplyr::select(-Respondent)\n",
                "# inspect\n",
                "str(surveydata)\n"
            ]
        },
        {
            "cell_type": "markdown",
            "metadata": {},
            "source": [
                "For MDS, we first calculate the distance matrix using the Euclidian distance. Note that we are transposing, scaling and centering the data just like for PCA.\n",
                "\n"
            ]
        },
        {
            "cell_type": "code",
            "execution_count": null,
            "metadata": {},
            "outputs": [],
            "source": [
                "survey_dist <- dist(scale(t(surveydata), center=TRUE, scale=TRUE),\n",
                "  method=\"euclidean\")\n"
            ]
        },
        {
            "cell_type": "markdown",
            "metadata": {},
            "source": [
                "Now, we generate an MDS object (this is basically eigenvalue decomposition)\n",
                "\n"
            ]
        },
        {
            "cell_type": "code",
            "execution_count": null,
            "metadata": {},
            "outputs": [],
            "source": [
                "mds.obj <- cmdscale(survey_dist, \n",
                "                    eig=TRUE,   # adds a matrix of eignevalues to the mds object\n",
                "                    x.ret=TRUE) # adds a symmetric distance matrix to the mds object\n"
            ]
        },
        {
            "cell_type": "markdown",
            "metadata": {},
            "source": [
                "Now, we calculate the percentage of variation that each MDS axis accounts for...\n",
                "\n"
            ]
        },
        {
            "cell_type": "code",
            "execution_count": null,
            "metadata": {},
            "outputs": [],
            "source": [
                "mds.var.per <- round(mds.obj$eig/sum(mds.obj$eig)*100, 1)\n",
                "# inspect\n",
                "mds.var.per\n"
            ]
        },
        {
            "cell_type": "markdown",
            "metadata": {},
            "source": [
                "We  make a fancy looking plot that shows the MDS axes and the variation:\n",
                "\n"
            ]
        },
        {
            "cell_type": "code",
            "execution_count": null,
            "metadata": {},
            "outputs": [],
            "source": [
                "mds.values <- mds.obj$points\n",
                "mds.data <- data.frame(Sample=rownames(mds.values),\n",
                "  X=mds.values[,1],\n",
                "  Y=mds.values[,2])\n",
                "# inspect\n",
                "mds.data\n"
            ]
        },
        {
            "cell_type": "markdown",
            "metadata": {},
            "source": [
                "\n",
                "\n"
            ]
        },
        {
            "cell_type": "code",
            "execution_count": null,
            "metadata": {},
            "outputs": [],
            "source": [
                "ggplot(data=mds.data, aes(x=X, y=Y, label=Sample)) +\n",
                "  geom_text() +\n",
                "  theme_bw() +\n",
                "  xlab(paste(\"MDS1 - \", mds.var.per[1], \"%\", sep=\"\")) +\n",
                "  ylab(paste(\"MDS2 - \", mds.var.per[2], \"%\", sep=\"\")) +\n",
                "  ggtitle(\"MDS plot using Euclidean distance\") +\n",
                "  coord_cartesian(xlim = c(-7, 7), ylim = c(-4, 4))\n"
            ]
        },
        {
            "cell_type": "markdown",
            "metadata": {},
            "source": [
                "The plot shows that we are dealing with 3 groups that are neatly separated along 2 dimensions. We also see that Q10 behaves different from the other items aiming to assess IQ. We could use this to optimize the item set of our survey. \n",
                "\n",
                "## Factor Analysis {-}\n",
                "\n",
                "Factor Analysis is used to identify underlying latent factors that explain the observed correlations among variables in a data set [@kim1978introduction; @field2012discovering, 749-811]. It aims to reduce the complexity of high-dimensional data by identifying a smaller number of factors (latent variables) that contribute to the variance and covariance among (observed) variables. Ideally those observed variables that represent an underlying factor should be highly correlated with each other but not correlated with (observed) variables that represent other factors (underlying variables). Like PCA and MDS, we find factors by aiming to reduce variability in the data but unlike PCA, which is based on a co-variance matrix, or MDS, which is based on a distance matrix, EFA is based on a correlation matrix. \n",
                "\n",
                "There are two types of factor analysis:  \n",
                "\n",
                "+ exploratory factor analysis (EFA)  \n",
                "\n",
                "+ confirmatory factor analysis (CFA)\n",
                "\n",
                "\n",
                "Here, we are only going to look at EFA which is used to identify how many latent variables (factors) are present in a data set. In contrast to CFA, EFA allows factors to be correlated with each other and it uses a rotation step to transform the initial factor structure into a more interpretable form. The rotation aims to maximize the loadings of variables on only a single factor  and it thereby maximizes the separation between factors. Common rotation methods include *Varimax*, *Oblimin*, and *Promax*. The *Varimax* rotation is an orthogonal rotation and it is the most common rotation method. It assumes that the factors are not correlated; another type of rotation are *oblique* rotations, such as *Oblimin* and *Promax*, which do not assume that the factors are not correlated [@field2012discovering, 755].\n",
                "\n",
                "CFA is used for hypothesis testing to confirm structures assumed to be present in the data. In R, we can use the `sem` or `lavaan` packages that implement Structural Equation Models (SEM)) to implement CFA and test specific hypothesis about the existence and interactions of latent factors.  \n",
                "\n",
                "\n",
                "### Example 1 {-}\n",
                "\n",
                "We continue with the survey data set and we can now implement the EFA using the `factanal` function from the base `stats` package. Although `factanal` implements a EFA, we need to provide it with the number of factors (latent variables) it should look for (commonly, you need to vary this to find the optimal number of factors).\n",
                "\n",
                "As a first step, we generate a scree plot to assess how many factors are in our data. There are two ways to interpret the output: (a) we choose the number of factors where there is a noticeable bend in the eigenvalues of the factors or, if there is no noticeable bend (the so-called *point of inflexion* [@field2012discovering, 763]), (b) select the last value above 1 (following @kaiser1960application - however, @jolliffe1987rotation suggests using .7 as 1 is too strict) [see @field2012discovering, 763 for more details on this discussion].\n"
            ]
        },
        {
            "cell_type": "code",
            "execution_count": null,
            "metadata": {},
            "outputs": [],
            "source": [
                "# extract eigenvalues\n",
                "eigenvalues <- eigen(cor(surveydata))\n",
                "# inspect\n",
                "#eigenvalues\n",
                "\n",
                "# create scree plot\n",
                "eigenvalues$values %>%\n",
                "  as.data.frame() %>%\n",
                "  dplyr::rename(Eigenvalues = 1) %>%\n",
                "  dplyr::mutate(Factors = 1:nrow(.)) %>%\n",
                "  ggplot(aes(x = Factors, y = Eigenvalues, label = round(Eigenvalues, 2))) +\n",
                "  geom_bar(stat = \"identity\", fill = \"lightgray\") +\n",
                "  geom_line(color = \"red\", size = 1) +\n",
                "  geom_point() +\n",
                "  geom_text(vjust = -1.2) +\n",
                "  geom_hline(yintercept = 1, color = \"blue\", linetype = \"dotted\") +\n",
                "  theme_bw() +\n",
                "  coord_cartesian(ylim = c(0, 10)) +\n",
                "  ggtitle(\"Scree plot\")\n"
            ]
        },
        {
            "cell_type": "markdown",
            "metadata": {},
            "source": [
                "As there is a noticeable bend in the Eigenvalues of the factors at 3 factors, we are justified by assuming that there are 3 factors (latent or hidden variables) in our data. We can now perform the factor analysis and set the number of expected factors to 3.\n",
                "\n"
            ]
        },
        {
            "cell_type": "code",
            "execution_count": null,
            "metadata": {},
            "outputs": [],
            "source": [
                "factoranalysis <- factanal(surveydata, # data\n",
                "                           3) # number of factors\n",
                "print(factoranalysis, \n",
                "      digits = 2,  # round to x decimals\n",
                "      cutoff = .2, # do not show loadings smaller than .2\n",
                "      sort = TRUE) # show items sorted\n"
            ]
        },
        {
            "cell_type": "markdown",
            "metadata": {},
            "source": [
                "Let us examine the output.\n",
                "\n",
                "We start with the *function call*, followed by *uniqueness* scores. Uniqueness refers to the portion of the variance in an observed variable that is not explained by the underlying factors extracted from the data. It represents the variability in a variable that is unique to that variable and cannot be accounted for by the common factors identified in the analysis (uniqueness is the variance that is unique to that variable whereas commonness is the variance it shares with other variables or factors) [see @field2012discovering, 759]. This means that items that do not capture or represent a latent variable well, will have high uniqueness scores (see, e.g., *Q10_Intelligence*).\n",
                "\n",
                "Next, the output shows a table with factor loadings. *Loadings* are correlations between an observed variable and a latent factor. Loadings indicate how strongly each observed variable is associated with each extracted factor. They provide insights into which factors influence the variation in each observed variable. The fact that Q10_Intelligence loads across factors shows that it does nto represent its intended factor (IQ) not very well.  \n",
                "\n",
                "\n",
                "We then get a table showing the sum-of-squares loadings with the amount of variance explained by each latent variable which can help identify the optimal or necessary number of latent variables (factors) that we should or need to look for. \n",
                "\n",
                "The p-value should not be significant (if it is significant, then you have missed factors). In our case,  2 factors would also report a non significant result due to the low number of data points (but p is highest for 3 factors). If this test is significant, then this suggests that you may need more factors than you currently have in your PA (but be careful: more factors can also lead to situations where you get factors that are more difficult to interpret. So make sure that the factors you include *make sense*).\n",
                "\n",
                "We can now plot the results to see if and how the different items group together. We start by created a data frame from the FA results containing the information we need for the visualization.\n"
            ]
        },
        {
            "cell_type": "code",
            "execution_count": null,
            "metadata": {},
            "outputs": [],
            "source": [
                "fadat <- data.frame(Factor1 = factoranalysis$loadings[,1],\n",
                "                    Factor2 = factoranalysis$loadings[,2],\n",
                "                    Items = names(surveydata))\n",
                "# inspect\n",
                "head(fadat)\n"
            ]
        },
        {
            "cell_type": "markdown",
            "metadata": {},
            "source": [
                "Now, that the data is formatted appropriately, we can plot it.\n",
                "\n"
            ]
        },
        {
            "cell_type": "code",
            "execution_count": null,
            "metadata": {},
            "outputs": [],
            "source": [
                "fadat %>%\n",
                "  ggplot(aes(x = Factor1, y = Factor2, label = Items, color = Factor1)) +\n",
                "  geom_text() + \n",
                "  theme_bw() +\n",
                "  coord_cartesian(xlim = c(-1.5, 1.5), ylim = c(-1, 1.5)) +\n",
                "  scale_color_viridis_b() +\n",
                "  labs(x = \"Factor 1 (49 %)\", y = \"Factor 2 (32 %)\")\n"
            ]
        },
        {
            "cell_type": "markdown",
            "metadata": {},
            "source": [
                "As we can see, there are 3 groups (factors) with *Q10_Intelligence* not aligning well with the other elements in that group. This could suggest that *Q10_Intelligence* is not an optimal item / variable for reflecting (or capturing) the latent intelligence factor.\n",
                "\n",
                "## Wrap-up{-}\n",
                "\n",
                "That's all folks!\n",
                "\n",
                "## Citation & Session Info {-}\n",
                "\n",
                "Schweinberger, Martin. `r format(Sys.time(), '%Y')`. *Introduction to Dimension Reduction Methods with R - AcqVA Aurora workshop*. TromsC8: The Arctic University of Norway, TromsC8. url: https://slcladal.github.io/introviz.html  (Version `r format(Sys.time(), '%Y.%m.%d')`).\n"
            ]
        },
        {
            "cell_type": "code",
            "execution_count": null,
            "metadata": {},
            "outputs": [],
            "source": [
                "@manual{schweinberger`r format(Sys.time(), '%Y')`acqvavizrws,\n",
                "  author = {Schweinberger, Martin},\n",
                "  title = {Introduction to Dimension Reduction Methods with R - AcqVA Aurora workshop},\n",
                "  note = {https://slcladal.github.io/introviz.html},\n",
                "  year = {`r format(Sys.time(), '%Y')`},\n",
                "  organization = \"The Arctic University of Norway (UiT), AcqVA Aurora Center},\n",
                "  address = {TromsC8},\n",
                "  edition = {`r format(Sys.time(), '%Y.%m.%d')`}\n",
                "}\n"
            ]
        },
        {
            "cell_type": "markdown",
            "metadata": {},
            "source": [
                "\n",
                "\n"
            ]
        },
        {
            "cell_type": "code",
            "execution_count": null,
            "metadata": {},
            "outputs": [],
            "source": [
                "sessionInfo()\n",
                "\n"
            ]
        },
        {
            "cell_type": "markdown",
            "metadata": {},
            "source": [
                "***\n",
                "\n",
                "[Back to top](#introduction)\n",
                "\n",
                "\n",
                "***\n",
                "\n",
                "## References {-}\n"
            ]
        }
    ],
    "metadata": {
        "anaconda-cloud": "",
        "kernelspec": {
            "display_name": "R",
            "langauge": "R",
            "name": "ir"
        },
        "language_info": {
            "codemirror_mode": "r",
            "file_extension": ".r",
            "mimetype": "text/x-r-source",
            "name": "R",
            "pygments_lexer": "r",
            "version": "3.4.1"
        }
    },
    "nbformat": 4,
    "nbformat_minor": 1
}
